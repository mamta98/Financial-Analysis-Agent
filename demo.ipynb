{
 "cells": [
  {
   "cell_type": "code",
   "execution_count": 1,
   "id": "b5c352b5-7012-401f-beaa-2d59b13a4d8a",
   "metadata": {},
   "outputs": [],
   "source": [
    "from financial_assistant import FinancialAgent\n",
    "import json"
   ]
  },
  {
   "cell_type": "code",
   "execution_count": 2,
   "id": "427c2c95-12bb-4007-9e5b-73a1bdcbf15c",
   "metadata": {},
   "outputs": [],
   "source": [
    "agent = FinancialAgent()"
   ]
  },
  {
   "cell_type": "code",
   "execution_count": 3,
   "id": "a7c1453d-86ca-4ff4-9357-2c045c689a91",
   "metadata": {},
   "outputs": [],
   "source": [
    "# Sample Test Queries\n",
    "test_queries = [\n",
    "    # Simple queries\n",
    "    \"What was NVIDIA's total revenue in fiscal year 2024?\",\n",
    "    \"What percentage of Google's 2023 revenue came from advertising?\",\n",
    "    # Comparative queries (require agent decomposition)\n",
    "    \"How much did Microsoft's cloud revenue grow from 2022 to 2023?\",\n",
    "    \"Which of the three companies had the highest gross margin in 2023?\",\n",
    "    # Complex multi-step queries\n",
    "    \"Compare the R&D spending as a percentage of revenue across all three companies in 2023\", \n",
    "    \"How did each company's operating margin change from 2022 to 2024?\",\n",
    "    \"What are the main AI risks mentioned by each company and how do they differ?\"\n",
    "]"
   ]
  },
  {
   "cell_type": "code",
   "execution_count": 5,
   "id": "68d31acf-9e8c-4bee-b195-e514c0dc51eb",
   "metadata": {},
   "outputs": [
    {
     "name": "stdout",
     "output_type": "stream",
     "text": [
      "Running tool `retrieve_financial_info` with `{'company_name': 'google', 'year': '2023', 'subquery': 'R&D spending as a percentage of revenue'}`\n",
      "Subquery: google R&D spending as a percentage of revenue 2023\n",
      "Running tool `retrieve_financial_info` with `{'company_name': 'microsoft', 'year': '2023', 'subquery': 'R&D spending as a percentage of revenue'}`\n",
      "Subquery: microsoft R&D spending as a percentage of revenue 2023\n",
      "Running tool `retrieve_financial_info` with `{'company_name': 'nvidia', 'year': '2023', 'subquery': 'R&D spending as a percentage of revenue'}`\n",
      "Subquery: nvidia R&D spending as a percentage of revenue 2023\n",
      "--------------------------------------------------\n",
      "{\n",
      "  \"query\": \"Compare the R&D spending as a percentage of revenue across all three companies in 2023\",\n",
      "  \"answer\": \"In 2023, the R&D spending as a percentage of revenue was 15% for Google, 13% for Microsoft, and 27.2% for Nvidia.\",\n",
      "  \"reasoning\": \"The retrieved data shows that Google allocated 15% of its revenue to R&D, Microsoft allocated 13%, and Nvidia allocated 27.2%. These percentages were directly stated in the respective annual reports for 2023.\",\n",
      "  \"sub_queries\": [\n",
      "    \"google R&D spending as a percentage of revenue 2023\",\n",
      "    \"microsoft R&D spending as a percentage of revenue 2023\",\n",
      "    \"nvidia R&D spending as a percentage of revenue 2023\"\n",
      "  ],\n",
      "  \"sources\": [\n",
      "    {\n",
      "      \"company\": \"google\",\n",
      "      \"year\": \"2023\",\n",
      "      \"page\": 41,\n",
      "      \"excerpt\": \"Research and development expenses as a percentage of revenues: 15%.\"\n",
      "    },\n",
      "    {\n",
      "      \"company\": \"microsoft\",\n",
      "      \"year\": \"2023\",\n",
      "      \"page\": 49,\n",
      "      \"excerpt\": \"In 2023, research and development expenses amounted to $27,195 million, representing 13% of revenue.\"\n",
      "    },\n",
      "    {\n",
      "      \"company\": \"nvidia\",\n",
      "      \"year\": \"2023\",\n",
      "      \"page\": 50,\n",
      "      \"excerpt\": \"In fiscal year 2023, these expenses amounted to $7,339 million, representing 27.2% of revenue.\"\n",
      "    }\n",
      "  ]\n",
      "}\n"
     ]
    }
   ],
   "source": [
    "query = test_queries[4]\n",
    "response = agent.query(query)\n",
    "print('-'*50)\n",
    "print(json.dumps(response, indent=2))"
   ]
  },
  {
   "cell_type": "code",
   "execution_count": null,
   "id": "792caf3b-105e-41ff-abe1-ad8bc81bea8b",
   "metadata": {},
   "outputs": [],
   "source": []
  }
 ],
 "metadata": {
  "kernelspec": {
   "display_name": "py310",
   "language": "python",
   "name": "py310"
  },
  "language_info": {
   "codemirror_mode": {
    "name": "ipython",
    "version": 3
   },
   "file_extension": ".py",
   "mimetype": "text/x-python",
   "name": "python",
   "nbconvert_exporter": "python",
   "pygments_lexer": "ipython3",
   "version": "3.10.16"
  }
 },
 "nbformat": 4,
 "nbformat_minor": 5
}
