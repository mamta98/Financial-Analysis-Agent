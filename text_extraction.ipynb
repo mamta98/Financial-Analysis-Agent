{
 "cells": [
  {
   "cell_type": "markdown",
   "id": "b1db60ff-20b8-4ba3-9c85-207bd4a06a66",
   "metadata": {},
   "source": [
    "# Text Extraction"
   ]
  },
  {
   "cell_type": "code",
   "execution_count": 1,
   "id": "934dd38a-56d4-4346-811a-e687b0ae5778",
   "metadata": {},
   "outputs": [],
   "source": [
    "import os\n",
    "import io\n",
    "import base64\n",
    "import json\n",
    "import concurrent.futures\n",
    "import re\n",
    "\n",
    "from openai import OpenAI, AzureOpenAI\n",
    "from pdf2image import convert_from_path\n",
    "from pdfminer.high_level import extract_pages, extract_text\n",
    "from pdfminer.layout import LTTextContainer"
   ]
  },
  {
   "cell_type": "code",
   "execution_count": 2,
   "id": "e1dabf02-31db-467b-85fa-c7337f13467d",
   "metadata": {},
   "outputs": [],
   "source": [
    "client = OpenAI(api_key=\"YOUR_API_KEY\")\n",
    "model_name = \"gpt-4o\" "
   ]
  },
  {
   "cell_type": "code",
   "execution_count": 3,
   "id": "7b4572c1-65f9-4c86-a75b-414b6f101aa4",
   "metadata": {},
   "outputs": [
    {
     "name": "stdout",
     "output_type": "stream",
     "text": [
      "The capital of France is Paris.\n"
     ]
    }
   ],
   "source": [
    "completion = client.chat.completions.create(\n",
    "    model=model_name,\n",
    "    messages=[\n",
    "        {\"role\": \"system\", \"content\": \"You are a helpful assistant.\"},\n",
    "        {\"role\": \"user\", \"content\": \"What is the capital of France?\"}\n",
    "    ]\n",
    ")\n",
    "\n",
    "print(completion.choices[0].message.content)"
   ]
  },
  {
   "cell_type": "code",
   "execution_count": 4,
   "id": "ae17842e-5e14-4846-bd99-ebb9896b0f4e",
   "metadata": {},
   "outputs": [],
   "source": [
    "def get_img_uri(img):\n",
    "    png_buffer = io.BytesIO()\n",
    "    img.save(png_buffer, format=\"PNG\")\n",
    "    png_buffer.seek(0)\n",
    "\n",
    "    base64_png = base64.b64encode(png_buffer.read()).decode('utf-8')\n",
    "\n",
    "    data_uri = f\"data:image/png;base64,{base64_png}\"\n",
    "    return data_uri"
   ]
  },
  {
   "cell_type": "code",
   "execution_count": 5,
   "id": "3dbeef08-eeab-4185-bad5-6e520f8dda96",
   "metadata": {},
   "outputs": [],
   "source": [
    "system_prompt = '''\n",
    "You will be provided with an image of a PDF page or a slide. Your goal is to deliver a detailed and engaging presentation about the content you see, using clear and accessible language suitable for a 101-level audience.\n",
    "\n",
    "If there is an identifiable title, start by stating the title to provide context for your audience.\n",
    "\n",
    "Describe visual elements in detail:\n",
    "\n",
    "- **Diagrams**: Explain each component and how they interact. For example, \"The process begins with X, which then leads to Y and results in Z.\"\n",
    "  \n",
    "- **Tables**: Break down the information logically. For instance, \"Product A costs X dollars, while Product B is priced at Y dollars.\"\n",
    "\n",
    "Focus on the content itself rather than the format:\n",
    "\n",
    "- **DO NOT** include terms referring to the content format.\n",
    "  \n",
    "- **DO NOT** mention the content type. Instead, directly discuss the information presented.\n",
    "\n",
    "Keep your explanation comprehensive yet concise:\n",
    "\n",
    "- Be exhaustive in describing the content, as your audience cannot see the image.\n",
    "  \n",
    "- Exclude irrelevant details such as page numbers or the position of elements on the image.\n",
    "\n",
    "Use clear and accessible language:\n",
    "\n",
    "- Explain technical terms or concepts in simple language appropriate for a 101-level audience.\n",
    "\n",
    "Engage with the content:\n",
    "\n",
    "- Interpret and analyze the information where appropriate, offering insights to help the audience understand its significance.\n",
    "\n",
    "------\n",
    "\n",
    "If there is an identifiable title, present the output in the following format:\n",
    "\n",
    "{TITLE}\n",
    "\n",
    "{Content description}\n",
    "\n",
    "If there is no clear title, simply provide the content description.\n",
    "'''"
   ]
  },
  {
   "cell_type": "code",
   "execution_count": 6,
   "id": "aea7edad-1eb4-4ad7-a594-c7888d604fd2",
   "metadata": {},
   "outputs": [],
   "source": [
    "def analyze_image(data_uri):\n",
    "    # time.sleep(1)\n",
    "    response = client.chat.completions.create(\n",
    "        model=model_name,\n",
    "        messages=[\n",
    "            {\"role\": \"system\", \"content\": system_prompt},\n",
    "            {\n",
    "                \"role\": \"user\",\n",
    "                \"content\": [\n",
    "                    {\"type\": \"image_url\", \"image_url\": {\"url\": f\"{data_uri}\"}}\n",
    "                ]\n",
    "            },\n",
    "        ],\n",
    "        max_tokens=1000,\n",
    "        temperature=0,\n",
    "        top_p=0.1\n",
    "    )\n",
    "    return response.choices[0].message.content\n",
    "\n",
    "\n",
    "\n",
    "\n",
    "def analyze_doc_image(img):\n",
    "    img_uri = get_img_uri(img)\n",
    "    return analyze_image(img_uri)"
   ]
  },
  {
   "cell_type": "code",
   "execution_count": 7,
   "id": "8f901aff-3d2b-4467-b9c9-1dc925564d7f",
   "metadata": {},
   "outputs": [],
   "source": [
    "def extract_company_and_year(filename):\n",
    "    abv_name_map = {'goog': 'google', 'msft': 'microsoft', 'nvda': 'nvidia'}\n",
    "    abv, dt = filename.replace('.pdf', '').split('-')\n",
    "    year = dt.strip()[:4]\n",
    "    name = abv_name_map[abv]\n",
    "    return name, year"
   ]
  },
  {
   "cell_type": "code",
   "execution_count": 8,
   "id": "bbcca275-b432-4e3b-aa14-c67a87228531",
   "metadata": {},
   "outputs": [],
   "source": [
    "def extract_text_per_page(pdf_path):\n",
    "    # Returns list of text, one per page, using pdfminer layout\n",
    "    pages = []\n",
    "    for page_layout in extract_pages(pdf_path):\n",
    "        page_text = \"\"\n",
    "        for elem in page_layout:\n",
    "            if isinstance(elem, LTTextContainer):\n",
    "                page_text += elem.get_text()\n",
    "        pages.append(page_text)\n",
    "    return pages"
   ]
  },
  {
   "cell_type": "code",
   "execution_count": 9,
   "id": "2c6f7396-bd30-4df7-a18d-f0e6b5e35bf3",
   "metadata": {},
   "outputs": [],
   "source": [
    "files_path = \"data\"\n",
    "files = [f for f in os.listdir(files_path) if f.endswith(\".pdf\")]#[:1]"
   ]
  },
  {
   "cell_type": "code",
   "execution_count": 10,
   "id": "cc3c4441-0cbf-4968-a807-3a43c3db8222",
   "metadata": {},
   "outputs": [
    {
     "data": {
      "text/plain": [
       "['msft-20230630.pdf',\n",
       " 'goog-20241231.pdf',\n",
       " 'nvda-20220130.pdf',\n",
       " 'msft-20220630.pdf',\n",
       " 'nvda-20240128.pdf',\n",
       " 'goog-20221231.pdf',\n",
       " 'msft-20240630.pdf',\n",
       " 'goog-20231231.pdf',\n",
       " 'nvda-20230129.pdf']"
      ]
     },
     "execution_count": 10,
     "metadata": {},
     "output_type": "execute_result"
    }
   ],
   "source": [
    "files"
   ]
  },
  {
   "cell_type": "code",
   "execution_count": null,
   "id": "63f2c5dc-b3b7-4fb1-b8cc-06355da89ab4",
   "metadata": {},
   "outputs": [],
   "source": [
    "# for f in files:\n",
    "#     path = f\"{files_path}/{f}\"\n",
    "#     doc = {\"filename\": f}\n",
    "#     imgs = convert_from_path(path)\n",
    "#     pages_description = []\n",
    "\n",
    "#     print(f\"Analyzing {f} ({len(imgs)} pages)\")\n",
    "\n",
    "#     with concurrent.futures.ThreadPoolExecutor(max_workers=16) as executor:\n",
    "#         futures = [executor.submit(analyze_doc_image, img) for img in imgs]\n",
    "#         for future in tqdm(concurrent.futures.as_completed(futures), total=len(futures)):\n",
    "#             pass\n",
    "#         for future in futures:\n",
    "#             pages_description.append(future.result())\n",
    "\n",
    "#     doc['pages_description'] = pages_description\n",
    "#     docs.append(doc)\n",
    "\n",
    "hybrid_docs = []\n",
    "\n",
    "for fname in files:\n",
    "    path = os.path.join(files_path, fname)\n",
    "    company, year = extract_company_and_year(fname)\n",
    "    imgs = convert_from_path(path)\n",
    "    page_texts = extract_text_per_page(path)\n",
    "    assert len(imgs) == len(page_texts), \"Mismatch page count!\"\n",
    "\n",
    "    print(f\"Analyzing {fname} ({len(imgs)} pages)...\")\n",
    "    page_entries = []\n",
    "\n",
    "    def process_page(args):\n",
    "        idx, img, text = args\n",
    "        img_uri = get_img_uri(img)\n",
    "        img_desc = analyze_image(img_uri)\n",
    "        return {\n",
    "            \"page_number\": idx+1,\n",
    "            \"company\": company,\n",
    "            \"year\": year,\n",
    "            \"pdf_name\": fname,\n",
    "            \"raw_text\": text,\n",
    "            \"img_desc\": img_desc\n",
    "        }\n",
    "\n",
    "    with concurrent.futures.ThreadPoolExecutor(max_workers=16) as executor:\n",
    "        futures = [\n",
    "            executor.submit(process_page, (idx, img, txt))\n",
    "            for idx, (img, txt) in enumerate(zip(imgs, page_texts))\n",
    "        ]\n",
    "        for f in concurrent.futures.as_completed(futures):\n",
    "            pass\n",
    "        page_entries = [f.result() for f in futures]\n",
    "\n",
    "    hybrid_docs.extend(page_entries)"
   ]
  },
  {
   "cell_type": "code",
   "execution_count": 12,
   "id": "620e5bc0-4ab0-48ef-859f-84bc5e0d809b",
   "metadata": {},
   "outputs": [],
   "source": [
    "with open(\"data_processed/parsed_pdf_docs.json\", 'w') as f:\n",
    "    json.dump(hybrid_docs, f)"
   ]
  },
  {
   "cell_type": "code",
   "execution_count": null,
   "id": "9d159efd-3339-4b2b-95a7-b7312f4b5f7f",
   "metadata": {},
   "outputs": [],
   "source": []
  },
  {
   "cell_type": "code",
   "execution_count": null,
   "id": "45d9a26e-9b6f-4a35-8719-ae38e42e51d9",
   "metadata": {},
   "outputs": [],
   "source": []
  }
 ],
 "metadata": {
  "kernelspec": {
   "display_name": "py310",
   "language": "python",
   "name": "py310"
  },
  "language_info": {
   "codemirror_mode": {
    "name": "ipython",
    "version": 3
   },
   "file_extension": ".py",
   "mimetype": "text/x-python",
   "name": "python",
   "nbconvert_exporter": "python",
   "pygments_lexer": "ipython3",
   "version": "3.10.16"
  }
 },
 "nbformat": 4,
 "nbformat_minor": 5
}
