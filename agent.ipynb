{
 "cells": [
  {
   "cell_type": "code",
   "execution_count": 1,
   "id": "0a7ea968-44c2-419c-88a0-7eb16a8b67b7",
   "metadata": {},
   "outputs": [],
   "source": [
    "from openai import OpenAI\n",
    "import chromadb\n",
    "import re\n",
    "import json\n",
    "import uuid\n"
   ]
  },
  {
   "cell_type": "code",
   "execution_count": 2,
   "id": "d41ea8b2-7c7f-4907-9f7d-a5103c5e66e1",
   "metadata": {},
   "outputs": [],
   "source": [
    "client = OpenAI(api_key=\"YOUR_API_KEY\")\n",
    "embed_model = \"text-embedding-3-small\""
   ]
  },
  {
   "cell_type": "markdown",
   "id": "1624e313-a649-472d-aa66-4116b192ec8b",
   "metadata": {},
   "source": [
    "# Vector Store"
   ]
  },
  {
   "cell_type": "code",
   "execution_count": 3,
   "id": "572ccbc0-9361-439a-a04e-0128f8c538f3",
   "metadata": {},
   "outputs": [],
   "source": [
    "# Load your parsed doc JSON\n",
    "with open(\"data_processed/parsed_pdf_docs.json\") as f:\n",
    "    pages = json.load(f)"
   ]
  },
  {
   "cell_type": "code",
   "execution_count": 4,
   "id": "df0f8bff-2007-4525-b368-581ae083fd06",
   "metadata": {},
   "outputs": [],
   "source": [
    "# Combine both signals\n",
    "def hybrid_text(page):\n",
    "    # Tune merging as you wish:\n",
    "    return f\"PAGE OCR TEXT:\\n{page['raw_text']}\\n\\nPAGE DESCRIPTION:\\n{page['img_desc']}\""
   ]
  },
  {
   "cell_type": "code",
   "execution_count": 5,
   "id": "ccf9feda-e6d5-4463-bae3-0e839a2e873a",
   "metadata": {},
   "outputs": [],
   "source": [
    "texts = [hybrid_text(p) for p in pages]"
   ]
  },
  {
   "cell_type": "code",
   "execution_count": 6,
   "id": "9fd66b1d-58db-48d0-b486-1c4e36d82266",
   "metadata": {},
   "outputs": [],
   "source": [
    "metadatas = [\n",
    "    {\n",
    "        \"company\": p[\"company\"],\n",
    "        \"year\": p[\"year\"],\n",
    "        \"pdf_name\": p[\"pdf_name\"],\n",
    "        \"page_number\": p[\"page_number\"]\n",
    "    }\n",
    "    for p in pages\n",
    "]"
   ]
  },
  {
   "cell_type": "code",
   "execution_count": 7,
   "id": "7fb9e78d-599f-4a8c-927c-f88026ec2fbe",
   "metadata": {},
   "outputs": [],
   "source": [
    "# Get embeddings\n",
    "embeddings = []\n",
    "for i in range(0, len(texts), 50):\n",
    "    batch = texts[i:i+50]\n",
    "    response = client.embeddings.create(model=embed_model, input=batch)\n",
    "    embeddings.extend([e.embedding for e in response.data])"
   ]
  },
  {
   "cell_type": "code",
   "execution_count": 8,
   "id": "2c7d9396-3b47-48da-95e7-a59c9604be05",
   "metadata": {},
   "outputs": [],
   "source": [
    "# Index in Chroma\n",
    "import chromadb\n",
    "# chroma_client = chromadb.Client()\n",
    "chroma_client = chromadb.PersistentClient(path='vector_store')\n",
    "coll = chroma_client.get_or_create_collection(\"hybrid_financial_chunks\")"
   ]
  },
  {
   "cell_type": "code",
   "execution_count": 9,
   "id": "73bca551-4d2f-4aa1-a3dc-41e7935b3844",
   "metadata": {},
   "outputs": [],
   "source": [
    "# for text, meta, emb in zip(texts, metadatas, embeddings):\n",
    "#     coll.add(embeddings=[emb], metadatas=[meta], documents=[text])\n",
    "\n",
    "for text, meta, emb in zip(texts, metadatas, embeddings):\n",
    "    unique_id = str(uuid.uuid4())\n",
    "    coll.add(\n",
    "        ids=[unique_id],\n",
    "        embeddings=[emb],\n",
    "        metadatas=[meta],\n",
    "        documents=[text]\n",
    "    )"
   ]
  },
  {
   "cell_type": "markdown",
   "id": "8427b1c2-36ab-4371-a611-13ae78297e02",
   "metadata": {},
   "source": [
    "# Retrieval"
   ]
  },
  {
   "cell_type": "code",
   "execution_count": 10,
   "id": "947dc81b-9b33-4c70-9151-c3bb4d6fe83c",
   "metadata": {},
   "outputs": [],
   "source": [
    "chroma_client = chromadb.PersistentClient(path='vector_store')\n",
    "collection = chroma_client.get_collection(\"hybrid_financial_chunks\")"
   ]
  },
  {
   "cell_type": "code",
   "execution_count": 11,
   "id": "f5b79e6c-1fc5-4efb-9f99-86107a6ba463",
   "metadata": {},
   "outputs": [],
   "source": [
    "def retrieve_financial_info(subquery, company_name, year):\n",
    "    subquery = subquery.lower()\n",
    "    company = company_name.lower()\n",
    "    top_k=3\n",
    "    embed_resp = client.embeddings.create(model=embed_model, input=[subquery])\n",
    "    query_emb = embed_resp.data[0].embedding\n",
    "    \n",
    "    results = collection.query(\n",
    "        query_embeddings=[query_emb],  # semantic\n",
    "        query_texts=[subquery],           # keyword\n",
    "        n_results=top_k,\n",
    "        where={\n",
    "            \"$and\": [\n",
    "                {\"company\": company_name},\n",
    "                {\"year\": year}\n",
    "            ]\n",
    "        }\n",
    "    )\n",
    "    \n",
    "    docs = results['documents'][0]\n",
    "    metas = results['metadatas'][0]\n",
    "    outs = []\n",
    "    for text, meta in zip(docs, metas):\n",
    "        outs.append({\n",
    "            \"text\": text,\n",
    "            \"page_number\": meta.get(\"page_number\"),\n",
    "            \"pdf_name\": meta.get(\"pdf_name\"),\n",
    "            \"company\": meta.get(\"company\"),\n",
    "            \"year\": meta.get(\"year\")\n",
    "        })\n",
    "    return outs"
   ]
  },
  {
   "cell_type": "code",
   "execution_count": 12,
   "id": "e17b2404-98e8-4b82-8d9a-4f084db4995b",
   "metadata": {},
   "outputs": [],
   "source": [
    "results = retrieve_financial_info(\n",
    "    subquery=\"net income\", \n",
    "    company_name=\"google\", \n",
    "    year=\"2022\"\n",
    ")"
   ]
  },
  {
   "cell_type": "code",
   "execution_count": 13,
   "id": "07f56b9b-f835-4e4e-bafe-080feb670d74",
   "metadata": {
    "scrolled": true
   },
   "outputs": [
    {
     "data": {
      "text/plain": [
       "[{'text': \"PAGE OCR TEXT:\\nTable of Contents\\nAlphabet Inc.\\nBasic net income per share:\\nNumerator\\nAllocation of undistributed earnings\\nDenominator\\nNumber of shares used in per share computation\\nBasic net income per share\\nDiluted net income per share:\\nNumerator\\nAllocation of undistributed earnings for basic computation\\nReallocation of undistributed earnings as a result of conversion of Class B to Class A\\nshares\\nReallocation of undistributed earnings\\nAllocation of undistributed earnings\\nDenominator\\nNumber of shares used in basic computation\\nWeighted-average effect of dilutive securities\\nAdd:\\nConversion of Class B to Class A shares outstanding\\nRestricted stock units and other contingently issuable shares\\nNumber of shares used in per share computation\\nDiluted net income per share\\nBasic net income per share:\\nNumerator\\nAllocation of undistributed earnings\\nDenominator\\nNumber of shares used in per share computation\\nBasic net income per share\\nDiluted net income per share:\\nNumerator\\nAllocation of undistributed earnings for basic computation\\nReallocation of undistributed earnings as a result of conversion of Class B to Class A\\nshares\\nReallocation of undistributed earnings\\nAllocation of undistributed earnings\\nDenominator\\nNumber of shares used in basic computation\\nWeighted-average effect of dilutive securities\\nAdd:\\nConversion of Class B to Class A shares outstanding\\nRestricted stock units and other contingently issuable shares\\nNumber of shares used in per share computation\\nDiluted net income per share\\n78\\nYear Ended December 31,\\nClass A\\n2021\\nClass B\\nClass C\\n$\\n$\\n$\\n$\\n34,200  $\\n5,174  $\\n36,659 \\n6,006 \\n5.69  $\\n909 \\n5.69  $\\n6,438 \\n5.69 \\n34,200  $\\n5,174  $\\n36,659 \\n5,174 \\n(581)\\n0 \\n(77)\\n0 \\n581 \\n38,793  $\\n5,097  $\\n37,240 \\n6,006 \\n909 \\n6,438 \\n909 \\n0 \\n6,915 \\n$\\n5.61  $\\n0 \\n0 \\n909 \\n5.61  $\\n0 \\n200 \\n6,638 \\n5.61 \\nYear Ended December 31,\\nClass A\\n2022\\nClass B\\nClass C\\n$\\n$\\n$\\n$\\n27,518  $\\n4,072  $\\n28,382 \\n5,994 \\n4.59  $\\n887 \\n4.59  $\\n6,182 \\n4.59 \\n27,518  $\\n4,072  $\\n28,382 \\n4,072 \\n(230)\\n31,360  $\\n0 \\n(30)\\n4,042  $\\n0 \\n230 \\n28,612 \\n5,994 \\n887 \\n6,182 \\n887 \\n0 \\n6,881 \\n$\\n4.56  $\\n0 \\n0 \\n887 \\n4.56  $\\n0 \\n96 \\n6,278 \\n4.56 \\n \\n \\n \\n \\n \\n \\n\\n\\nPAGE DESCRIPTION:\\n**Alphabet Inc. Net Income Per Share Analysis**\\n\\nThis document provides a detailed breakdown of Alphabet Inc.'s basic and diluted net income per share for the years ended December 31, 2021, and December 31, 2022. The data is categorized by Class A, Class B, and Class C shares, and it explains the calculations for both basic and diluted net income per share.\\n\\n---\\n\\n### **Year Ended December 31, 2021**\\n\\n#### **Basic Net Income Per Share**\\n- **Numerator**: Allocation of undistributed earnings is $34,200 for Class A, $5,174 for Class B, and $36,659 for Class C.\\n- **Denominator**: The number of shares used in the computation is 6,006 for Class A, 909 for Class B, and 6,438 for Class C.\\n- **Result**: Basic net income per share is $5.69 for all three classes.\\n\\n#### **Diluted Net Income Per Share**\\n- **Numerator**:\\n  - Allocation of undistributed earnings for basic computation remains the same as above.\\n  - Reallocation of undistributed earnings due to conversion of Class B to Class A shares is $5,174 for Class A and $0 for Class B and Class C.\\n  - Additional reallocation adjustments are -$581 for Class A, -$77 for Class B, and $581 for Class C.\\n  - Final allocation of undistributed earnings is $38,793 for Class A, $5,097 for Class B, and $37,240 for Class C.\\n- **Denominator**:\\n  - Basic computation uses the same number of shares as above.\\n  - Weighted-average effect of dilutive securities includes:\\n    - Conversion of Class B to Class A shares: 909 shares for Class A.\\n    - Restricted stock units and other contingently issuable shares: 200 shares for Class C.\\n  - Total shares used in diluted computation are 6,915 for Class A, 909 for Class B, and 6,638 for Class C.\\n- **Result**: Diluted net income per share is $5.61 for all three classes.\\n\\n---\\n\\n### **Year Ended December 31, 2022**\\n\\n#### **Basic Net Income Per Share**\\n- **Numerator**: Allocation of undistributed earnings is $27,518 for Class A, $4,072 for Class B, and $28,382 for Class C.\\n- **Denominator**: The number of shares used in the computation is 5,994 for Class A, 887 for Class B, and 6,182 for Class C.\\n- **Result**: Basic net income per share is $4.59 for all three classes.\\n\\n#### **Diluted Net Income Per Share**\\n- **Numerator**:\\n  - Allocation of undistributed earnings for basic computation remains the same as above.\\n  - Reallocation of undistributed earnings due to conversion of Class B to Class A shares is $4,072 for Class A and $0 for Class B and Class C.\\n  - Additional reallocation adjustments are -$230 for Class A, -$30 for Class B, and $230 for Class C.\\n  - Final allocation of undistributed earnings is $31,360 for Class A, $4,042 for Class B, and $28,612 for Class C.\\n- **Denominator**:\\n  - Basic computation uses the same number of shares as above.\\n  - Weighted-average effect of dilutive securities includes:\\n    - Conversion of Class B to Class A shares: 887 shares for Class A.\\n    - Restricted stock units and other contingently issuable shares: 96 shares for Class C.\\n  - Total shares used in diluted computation are 6,881 for Class A, 887 for Class B, and 6,278 for Class C.\\n- **Result**: Diluted net income per share is $4.56 for all three classes.\\n\\n---\\n\\n### **Key Takeaways**\\n1. **Consistency Across Share Classes**: Both basic and diluted net income per share are identical across Class A, Class B, and Class C shares for each year.\\n2. **Year-over-Year Comparison**: Net income per share decreased from 2021 to 2022, reflecting a lower allocation of undistributed earnings.\\n3. **Dilutive Effects**: The inclusion of dilutive securities slightly reduces the net income per share compared to the basic computation, but the impact is minimal.\\n\\nThis analysis highlights Alphabet Inc.'s approach to calculating earnings per share, ensuring transparency and accuracy in financial reporting.\",\n",
       "  'page_number': 84,\n",
       "  'pdf_name': 'goog-20221231.pdf',\n",
       "  'company': 'google',\n",
       "  'year': '2022'},\n",
       " {'text': \"PAGE OCR TEXT:\\nTable of Contents\\nNon-Income Taxes\\nAlphabet Inc.\\nWe  are  under  audit  by  various  domestic  and  foreign  tax  authorities  with  regards  to  non-income  tax  matters.  The\\nsubject matter of non-income tax audits primarily arises from disputes on the tax treatment and tax rate applied to the sale\\nof  our  products  and  services  in  these  jurisdictions  and  the  tax  treatment  of  certain  employee  benefits.  We  accrue  non-\\nincome taxes that may result from examinations by, or any negotiated agreements with, these tax authorities when a loss\\nis probable and reasonably estimable. If we determine that a loss is reasonably possible and the loss or range of loss can\\nbe estimated, we disclose the reasonably possible loss. Due to the inherent complexity and uncertainty of these matters\\nand judicial process in certain jurisdictions, the final outcome may be materially different from our expectations.\\nFor information regarding income tax contingencies see Note 14.\\nNote 11. Stockholders' Equity\\nClass A and Class B Common Stock and Class C Capital Stock\\nOur  Board  of  Directors  has  authorized  three  classes  of  stock,  Class A  and  Class  B  common  stock,  and  Class  C\\ncapital stock. The rights of the holders of each class of our common and capital stock are identical, except with respect to\\nvoting. Each share of Class A common stock is entitled to one vote per share. Each share of Class B common stock is\\nentitled to 10 votes per share. Class C capital stock has no voting rights, except as required by applicable law. Shares of\\nClass B common stock may be converted at any time at the option of the stockholder and automatically convert upon sale\\nor transfer to Class A common stock.\\nStock Split\\nOn July 15, 2022, the company executed a 20-for-one stock split with a record date of July 1, 2022, effected in the\\nform of a one-time special stock dividend on each share of the company's Class A, Class B, and Class C stock. All prior\\nperiod  references  made  to  share  or  per  share  amounts  in  the  accompanying  consolidated  financial  statements  and\\napplicable  disclosures  have  been  retroactively  adjusted  to  reflect  the  effects  of  the  Stock  Split.  See  Note  1  for  further\\ndetails.\\nShare Repurchases\\nIn April 2022, the Board of Directors of Alphabet authorized the company to repurchase up to $70.0 billion of its Class\\nA  and  Class  C  shares.  As  of  December  31,  2022,  $28.1  billion  remains  available  for  Class  A  and  Class  C  share\\nrepurchases.\\nThe following table presents Class A and Class C shares repurchased and subsequently retired (in millions):\\nClass A share repurchases\\nClass C share repurchases\\nTotal share repurchases\\nYear Ended December 31, 2021\\nYear Ended December 31, 2022\\nShares\\nAmount\\nShares\\nAmount\\n24 $\\n383\\n407 $\\n3,399 \\n46,875 \\n50,274 \\n61 $\\n469\\n530 $\\n6,719 \\n52,577 \\n59,296 \\nClass  A  and  Class  C  shares  are  repurchased  in  a  manner  deemed  in  the  best  interest  of  the  company  and  its\\nstockholders, taking into account the economic cost and prevailing market conditions, including the relative trading prices\\nand volumes of the Class A and Class C shares. Repurchases are executed from time to time, subject to general business\\nand  market  conditions  and  other  investment  opportunities,  through  open  market  purchases  or  privately  negotiated\\ntransactions, including through Rule 10b5-1 plans. The repurchase program does not have an expiration date.\\nNote 12. Net Income Per Share\\nWe  compute  net  income  per  share  of  Class A,  Class  B,  and  Class  C  stock  using  the  two-class  method.  Basic  net\\nincome  per  share  is  computed  using  the  weighted-average  number  of  shares  outstanding  during  the  period.  Diluted  net\\nincome per share is computed using the weighted-average number of shares and the effect of potentially dilutive securities\\noutstanding during the period. Potentially dilutive securities consist of restricted stock units and other contingently issuable\\nshares. The dilutive effect of outstanding restricted stock units and other contingently issuable shares is reflected in diluted\\nearnings  per  share  by  application  of  the  treasury  stock  method. The  computation  of  the  diluted  net  income  per  share  of\\nClass A stock assumes the conversion of Class B stock, while the diluted net income per share of Class B stock does not\\nassume the conversion of those shares.\\n76\\n\\n\\nPAGE DESCRIPTION:\\n**Non-Income Taxes**\\n\\nThe company is subject to audits by various domestic and foreign tax authorities concerning non-income tax matters. These audits primarily focus on disputes related to the tax treatment and tax rates applied to the sale of products and services, as well as the tax treatment of certain employee benefits. The company accrues non-income taxes that may arise from examinations or negotiations with tax authorities when the loss is both probable and reasonably estimable. If a loss is deemed reasonably possible, the company discloses the potential range of loss. However, due to the complexity and uncertainty of these matters, the final outcomes may differ significantly from expectations.\\n\\n**Note 11. Stockholders' Equity**\\n\\n**Class A, Class B, and Class C Capital Stock**\\n\\nThe company has three classes of stock: Class A, Class B, and Class C. All classes have identical rights except for voting privileges. Class A stockholders are entitled to one vote per share, while Class B stockholders are entitled to ten votes per share. Class C stockholders have no voting rights unless required by law. Shares of Class B stock can be converted into Class A stock at any time by the stockholder, and they automatically convert upon sale or transfer to Class A stock.\\n\\n**Stock Split**\\n\\nOn July 15, 2022, the company executed a 20-for-1 stock split, which was recorded as of July 1, 2022. This split included a one-time special stock dividend for Class A, Class B, and Class C shares. All prior references to share or per-share amounts in financial statements were adjusted retroactively to reflect the stock split.\\n\\n**Share Repurchases**\\n\\nIn April 2022, the company authorized the repurchase of up to $70 billion of its Class A and Class C shares. By December 31, 2022, $28.1 billion remained available for repurchases. The table below summarizes the repurchases of Class A and Class C shares for the years ending December 31, 2021, and December 31, 2022:\\n\\n- **2021**: \\n  - Class A shares: 24 million shares repurchased for $3,399 million.\\n  - Class C shares: 383 million shares repurchased for $46,875 million.\\n  - Total: 407 million shares repurchased for $50,274 million.\\n\\n- **2022**: \\n  - Class A shares: 61 million shares repurchased for $6,719 million.\\n  - Class C shares: 469 million shares repurchased for $52,577 million.\\n  - Total: 530 million shares repurchased for $59,296 million.\\n\\nRepurchases are conducted in the best interest of the company and its stockholders, considering economic costs, market conditions, and trading prices. These repurchases may occur through open market purchases or privately negotiated transactions, including Rule 10b5-1 plans. The repurchase program does not have an expiration date.\\n\\n**Note 12. Net Income Per Share**\\n\\nThe company calculates net income per share for Class A, Class B, and Class C stock using a two-class method:\\n\\n- **Basic Net Income Per Share**: This is computed using the weighted-average number of shares outstanding during the period.\\n- **Diluted Net Income Per Share**: This includes the weighted-average number of shares and the effect of potentially dilutive securities, such as restricted stock units and other contingently issuable shares. The treasury stock method is used to account for these dilutive effects.\\n\\nFor Class A stock, diluted net income per share assumes the conversion of Class B stock. However, for Class B stock, diluted net income per share does not assume the conversion of those shares.\",\n",
       "  'page_number': 82,\n",
       "  'pdf_name': 'goog-20221231.pdf',\n",
       "  'company': 'google',\n",
       "  'year': '2022'},\n",
       " {'text': \"PAGE OCR TEXT:\\nTable of Contents\\nAlphabet Inc.\\nAlphabet Inc.\\nCONSOLIDATED STATEMENTS OF COMPREHENSIVE INCOME\\n(in millions)\\nNet income\\nOther comprehensive income (loss):\\nChange in foreign currency translation adjustment\\nAvailable-for-sale investments:\\nChange in net unrealized gains (losses)\\nLess: reclassification adjustment for net (gains) losses included in\\nnet income\\nNet change, net of income tax benefit (expense) of $(230), $394,\\nand $1,056\\nCash flow hedges:\\nChange in net unrealized gains (losses)\\nLess: reclassification adjustment for net (gains) losses included in\\nnet income\\nNet change, net of income tax benefit (expense) of $11, $(122), and\\n$110\\nOther comprehensive income (loss)\\nComprehensive income\\nSee accompanying notes.\\n49\\nYear Ended December 31,\\n2020\\n2021\\n2022\\n$\\n40,269  $\\n76,033  $\\n59,972 \\n1,139 \\n(1,442)\\n(1,836)\\n1,313 \\n(1,312)\\n(4,720)\\n(513)\\n800 \\n42 \\n(116)\\n(64)\\n1,007 \\n(1,376)\\n(3,713)\\n716 \\n(154)\\n1,275 \\n(1,706)\\n(431)\\n(5,980)\\n53,992 \\n(74)\\n1,865 \\n42,134  $\\n562 \\n(2,256)\\n73,777  $\\n$\\n \\n \\n\\n\\nPAGE DESCRIPTION:\\nAlphabet Inc.  \\nConsolidated Statements of Comprehensive Income (in millions)\\n\\nThis document provides a summary of Alphabet Inc.'s financial performance over three years: 2020, 2021, and 2022. It breaks down the company's net income, other comprehensive income (loss), and comprehensive income, offering insights into the factors influencing these figures.\\n\\n### Net Income\\n- **2020**: $40,269 million  \\n- **2021**: $76,033 million  \\n- **2022**: $59,972 million  \\n\\nNet income represents the company's profit after all expenses, taxes, and costs have been deducted from total revenue. While there was a significant increase from 2020 to 2021, the figure decreased in 2022.\\n\\n---\\n\\n### Other Comprehensive Income (Loss)\\nThis section includes items that impact the company's financial health but are not part of net income. These are primarily adjustments related to foreign currency, investments, and cash flow hedges.\\n\\n#### 1. **Change in Foreign Currency Translation Adjustment**  \\nThis reflects the impact of currency exchange rate fluctuations on the company's international operations:  \\n- **2020**: $1,139 million gain  \\n- **2021**: $(1,442) million loss  \\n- **2022**: $(1,836) million loss  \\n\\n#### 2. **Available-for-Sale Investments**  \\nThese are investments that the company holds but may sell in the future. The changes include:  \\n- **Change in Net Unrealized Gains (Losses)**:  \\n  - **2020**: $1,313 million gain  \\n  - **2021**: $(1,312) million loss  \\n  - **2022**: $(4,720) million loss  \\n\\n- **Reclassification Adjustment for Net (Gains) Losses Included in Net Income**:  \\n  - **2020**: $(513) million  \\n  - **2021**: $(64) million  \\n  - **2022**: $1,007 million  \\n\\n- **Net Change (Including Tax Benefits/Expenses)**:  \\n  - **2020**: $800 million gain  \\n  - **2021**: $(1,376) million loss  \\n  - **2022**: $(3,713) million loss  \\n\\n#### 3. **Cash Flow Hedges**  \\nThese are financial instruments used to manage risks related to changes in cash flow. The changes include:  \\n- **Change in Net Unrealized Gains (Losses)**:  \\n  - **2020**: $42 million gain  \\n  - **2021**: $716 million gain  \\n  - **2022**: $1,275 million gain  \\n\\n- **Reclassification Adjustment for Net (Gains) Losses Included in Net Income**:  \\n  - **2020**: $(116) million  \\n  - **2021**: $(154) million  \\n  - **2022**: $(1,706) million  \\n\\n- **Net Change (Including Tax Benefits/Expenses)**:  \\n  - **2020**: $(74) million loss  \\n  - **2021**: $562 million gain  \\n  - **2022**: $(431) million loss  \\n\\n---\\n\\n### Other Comprehensive Income (Loss)  \\nThis is the total of all adjustments listed above:  \\n- **2020**: $1,865 million gain  \\n- **2021**: $(2,256) million loss  \\n- **2022**: $(5,980) million loss  \\n\\n---\\n\\n### Comprehensive Income  \\nThis is the sum of net income and other comprehensive income (loss), representing the company's overall financial performance:  \\n- **2020**: $42,134 million  \\n- **2021**: $73,777 million  \\n- **2022**: $53,992 million  \\n\\n---\\n\\n### Key Takeaways\\n1. Alphabet Inc.'s net income peaked in 2021 but declined in 2022, indicating potential challenges or changes in business operations.\\n2. Other comprehensive income (loss) was positive in 2020 but turned negative in 2021 and 2022, driven by losses in foreign currency adjustments and investments.\\n3. Comprehensive income, which combines net income and other comprehensive income, followed a similar trend, with a decline in 2022 after a strong performance in 2021.\\n\\nThis data highlights the importance of both operational profitability (net income) and external factors (other comprehensive income) in assessing Alphabet Inc.'s financial health.\",\n",
       "  'page_number': 55,\n",
       "  'pdf_name': 'goog-20221231.pdf',\n",
       "  'company': 'google',\n",
       "  'year': '2022'}]"
      ]
     },
     "execution_count": 13,
     "metadata": {},
     "output_type": "execute_result"
    }
   ],
   "source": [
    "results"
   ]
  },
  {
   "cell_type": "markdown",
   "id": "713fb5f3-6918-4bab-9840-f7e5aa77a016",
   "metadata": {},
   "source": [
    "# Agent"
   ]
  },
  {
   "cell_type": "code",
   "execution_count": 14,
   "id": "75b523c8-5bfd-4082-80bd-d9f56aa432c4",
   "metadata": {},
   "outputs": [],
   "source": [
    "retrieval_function = {\n",
    "    \"name\": \"retrieve_financial_info\",\n",
    "    \"description\": \"Retrieve relevant documents from annual reports given the company name, year, and subquery.\",\n",
    "    \"parameters\": {\n",
    "        \"type\": \"object\",\n",
    "        \"properties\": {\n",
    "            \"company_name\": {\n",
    "                \"type\": \"string\",\n",
    "                \"description\": \"The company name\",\n",
    "                \"enum\": [\"google\", \"microsoft\", \"nvidia\"] \n",
    "            },\n",
    "            \"year\": {\n",
    "                \"type\": \"string\",\n",
    "                \"description\": \"The year of the report\",\n",
    "                \"enum\": [\"2022\", \"2023\", \"2024\"]  \n",
    "            },\n",
    "            \"subquery\": {\"type\": \"string\"}\n",
    "        },\n",
    "        \"required\": [\"company\", \"year\", \"query\"]\n",
    "    }\n",
    "}\n"
   ]
  },
  {
   "cell_type": "code",
   "execution_count": 15,
   "id": "7f623a91-68cc-4d57-96d9-e8f69628870f",
   "metadata": {},
   "outputs": [],
   "source": [
    "system_prompt = \\\n",
    "\"\"\"\n",
    "You are a financial analyst assistant specializing in the finances of three companies: Google, Microsoft, and Nvidia.\n",
    "Your task is to answer user queries about these companies using only reliable, retrieved information.\n",
    "\n",
    "To find relevant information, use the retrieve_financial_info function. For each function call, you must specify:\n",
    "1) A subquery based on the user’s main question that describes the key information you want to extract,\n",
    "2) The company name,\n",
    "3) And the year.\n",
    "\n",
    "When answering, use only the retrieved information as context.\n",
    "If you do not have any document for reference, reply: \"I don't have relevant information to answer this query.\"\n",
    "\n",
    "For every answer, always provide:\n",
    "1) \"answer\": Your direct answer to the user's query, in clear, concise language.\n",
    "2) \"reasoning\": A brief explanation of how you arrived at your answer, referencing the context you used.\n",
    "3) \"sources\": A list of sources you used, with each source including:\n",
    "    a) company\n",
    "    b) year\n",
    "    c) pdf_name\n",
    "    d) page_number\n",
    "    e) a short excerpt from the document used.\n",
    "\n",
    "Respond only in the following JSON format: \n",
    "```\n",
    "{\n",
    "  \"answer\": \"<your answer here>\",\n",
    "  \"reasoning\": \"<your reasoning here>\",\n",
    "  \"sources\": [\n",
    "    {\n",
    "      \"company\": \"<company>\",\n",
    "      \"year\": \"<year>\",\n",
    "      \"page\": <page_number>,\n",
    "      \"excerpt\": \"<relevant excerpt from the retrieved document>\"\n",
    "    }\n",
    "  ]\n",
    "}\n",
    "```\n",
    "\n",
    "If you do not have any document for reference, output:\n",
    "```\n",
    "{ \"answer\": \"I don't have relevant information to answer this query.\" }\n",
    "```\n",
    "\"\"\""
   ]
  },
  {
   "cell_type": "code",
   "execution_count": 16,
   "id": "19838453-6e77-48b7-adf6-82605513af0b",
   "metadata": {},
   "outputs": [],
   "source": [
    "def get_llm_response(messages):\n",
    "    tools = [retrieval_function]\n",
    "    return client.chat.completions.create(\n",
    "            model=\"gpt-4o\",\n",
    "            messages=messages,\n",
    "            functions=tools,\n",
    "            function_call=\"auto\",\n",
    "            max_tokens=700,\n",
    "            temperature=0\n",
    "        )\n",
    "\n",
    "def get_tool_calls(response):\n",
    "    tool_calls = []\n",
    "    msg = response.choices[0].message\n",
    "    if hasattr(msg, \"tool_calls\") and msg.tool_calls:\n",
    "        tool_calls = [(call, 'tool') for call in msg.tool_calls]\n",
    "    elif hasattr(msg, \"function_call\") and msg.function_call:\n",
    "        tool_calls = [(msg.function_call, 'function')]\n",
    "    return tool_calls\n",
    "\n",
    "\n",
    "def get_tool_response(tool_call):\n",
    "    call, role = tool_call\n",
    "    func_args = json.loads(call.arguments)\n",
    "    func_name = call.name\n",
    "    sub_query_text = f\"{func_args['company_name']} {func_args['subquery']} {func_args['year']}\"\n",
    "    print(f'Running tool `{func_name}` with `{func_args}`\\nSubquery: {sub_query_text}')\n",
    "    \n",
    "    tool_response = {}\n",
    "    if func_name == 'retrieve_financial_info':\n",
    "        tool_response = retrieve_financial_info(**func_args)\n",
    "\n",
    "    tool_call_id = getattr(call, \"id\", None)\n",
    "    function_message = {\n",
    "                \"role\": role,           \n",
    "                \"name\": func_name,\n",
    "                \"tool_call_id\": tool_call_id,\n",
    "                \"content\": json.dumps(tool_response),\n",
    "            }\n",
    "    return function_message, sub_query_text\n",
    "\n",
    "\n",
    "def generate_answer(query):\n",
    "    messages = [\n",
    "        {\"role\": \"system\", \"content\": system_prompt},\n",
    "        {\"role\": \"user\", \"content\": query}\n",
    "    ]\n",
    "    sub_queries = []\n",
    "    while True:\n",
    "        response = get_llm_response(messages)\n",
    "        llm_message = response.choices[0].message  \n",
    "        messages.append(llm_message)\n",
    "        tool_calls = get_tool_calls(response)\n",
    "        if tool_calls:\n",
    "            for tool_call in tool_calls:\n",
    "                function_message, sub_query_text = get_tool_response(tool_call)\n",
    "                sub_queries.append(sub_query_text)\n",
    "                # print(f'Function Message: {function_message}')\n",
    "                messages.append(function_message)\n",
    "            continue\n",
    "        else:\n",
    "            return llm_message, sub_queries\n",
    "\n",
    "\n",
    "def parse_llm_response_to_dict(llm_response):\n",
    "    content = llm_response.content\n",
    "    content = content.strip()\n",
    "    if content.startswith(\"```json\"):\n",
    "        content = content[len(\"```json\"):].strip(\"` \\n\")\n",
    "    elif content.startswith(\"```\"):\n",
    "        content = content.strip(\"` \\n\")\n",
    "    try:\n",
    "        return json.loads(content)\n",
    "    except Exception as e:\n",
    "        print(f\"Failed to parse JSON: {e}\\nContent was:\\n{content}\")\n",
    "        return None\n",
    "\n",
    "def get_output_json(query):\n",
    "    llm_message, sub_queries = generate_answer(query)\n",
    "    llm_res_dict = parse_llm_response_to_dict(llm_message)\n",
    "    if llm_res_dict:\n",
    "        llm_res_dict['subqueries'] = sub_queries\n",
    "        return llm_res_dict\n",
    "    else:\n",
    "        \"\""
   ]
  },
  {
   "cell_type": "code",
   "execution_count": 17,
   "id": "a0b0981b-6c9f-47a8-a7a4-54276d6c487a",
   "metadata": {
    "scrolled": true
   },
   "outputs": [
    {
     "name": "stdout",
     "output_type": "stream",
     "text": [
      "Running tool `retrieve_financial_info` with `{'company_name': 'google', 'year': '2023', 'subquery': 'operating margin'}`\n",
      "Subquery: google operating margin 2023\n",
      "Running tool `retrieve_financial_info` with `{'company_name': 'microsoft', 'year': '2023', 'subquery': 'operating margin'}`\n",
      "Subquery: microsoft operating margin 2023\n",
      "Running tool `retrieve_financial_info` with `{'company_name': 'nvidia', 'year': '2023', 'subquery': 'operating margin'}`\n",
      "Subquery: nvidia operating margin 2023\n"
     ]
    }
   ],
   "source": [
    "response = get_output_json('Which company had the highest operating margin in 2023?')"
   ]
  },
  {
   "cell_type": "code",
   "execution_count": 18,
   "id": "535146e1-dbc9-4a60-987e-5b4ec02a760f",
   "metadata": {},
   "outputs": [
    {
     "data": {
      "text/plain": [
       "{'answer': 'In 2023, Microsoft had the highest operating margin among the three companies.',\n",
       " 'reasoning': \"Based on the retrieved information, Microsoft's operating income for 2023 was $88,523 million, which represents a 6% increase from the previous year. Nvidia's gross margin decreased to 56.9% in 2023, and Google's total income from operations was $84,293 million. The specific operating margin percentages were not provided for all companies, but the available data suggests that Microsoft's financial performance was strong, with significant growth in operating income.\",\n",
       " 'sources': [{'company': 'microsoft',\n",
       "   'year': '2023',\n",
       "   'page': 51,\n",
       "   'excerpt': 'GAAP operating income for 2023 is $88,523 million, a 6% increase from $83,383 million in 2022.'},\n",
       "  {'company': 'nvidia',\n",
       "   'year': '2023',\n",
       "   'page': 49,\n",
       "   'excerpt': 'Gross margin was 56.9% and 64.9% for fiscal years 2023 and 2022, respectively.'},\n",
       "  {'company': 'google',\n",
       "   'year': '2023',\n",
       "   'page': 42,\n",
       "   'excerpt': 'Overall, total income from operations rose from $74,842 million in 2022 to $84,293 million in 2023.'}],\n",
       " 'subqueries': ['google operating margin 2023',\n",
       "  'microsoft operating margin 2023',\n",
       "  'nvidia operating margin 2023']}"
      ]
     },
     "execution_count": 18,
     "metadata": {},
     "output_type": "execute_result"
    }
   ],
   "source": [
    "response"
   ]
  },
  {
   "cell_type": "code",
   "execution_count": null,
   "id": "b8678bc1-cf4c-49a9-bbd5-2153209b7b64",
   "metadata": {},
   "outputs": [],
   "source": []
  }
 ],
 "metadata": {
  "kernelspec": {
   "display_name": "py310",
   "language": "python",
   "name": "py310"
  },
  "language_info": {
   "codemirror_mode": {
    "name": "ipython",
    "version": 3
   },
   "file_extension": ".py",
   "mimetype": "text/x-python",
   "name": "python",
   "nbconvert_exporter": "python",
   "pygments_lexer": "ipython3",
   "version": "3.10.16"
  }
 },
 "nbformat": 4,
 "nbformat_minor": 5
}
