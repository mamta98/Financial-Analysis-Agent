{
 "cells": [
  {
   "cell_type": "code",
   "execution_count": 2,
   "id": "2cb5e642-5b01-4ed2-894e-3d3321757564",
   "metadata": {},
   "outputs": [],
   "source": [
    "import nest_asyncio\n",
    "import asyncio\n",
    "from playwright.async_api import async_playwright\n",
    "import os"
   ]
  },
  {
   "cell_type": "code",
   "execution_count": 3,
   "id": "3617a64d-ac23-4d60-a332-1bdc3e29f05c",
   "metadata": {},
   "outputs": [],
   "source": [
    "nest_asyncio.apply()"
   ]
  },
  {
   "cell_type": "code",
   "execution_count": 4,
   "id": "0fe8744d-398e-4d55-b7bc-950cdd01fd8c",
   "metadata": {},
   "outputs": [],
   "source": [
    "urls = [('https://www.sec.gov/Archives/edgar/data/1652044/000165204423000016/goog-20221231.htm',\n",
    "  'GOOG_2022.pdf'),\n",
    " ('https://www.sec.gov/Archives/edgar/data/1652044/000165204424000022/goog-20231231.htm',\n",
    "  'GOOG_2023.pdf'),\n",
    " ('https://www.sec.gov/Archives/edgar/data/1652044/000165204425000014/goog-20241231.htm',\n",
    "  'GOOG_2024.pdf'),\n",
    " ('https://www.sec.gov/Archives/edgar/data/789019/000156459022026876/msft-10k_20220630.htm',\n",
    "  'MSFT_2022.pdf'),\n",
    " ('https://www.sec.gov/Archives/edgar/data/789019/000095017023035122/msft-20230630.htm',\n",
    "  'MSFT_2023.pdf'),\n",
    " ('https://www.sec.gov/Archives/edgar/data/789019/000095017024087843/msft-20240630.htm',\n",
    "  'MSFT_2024.pdf'),\n",
    " ('https://www.sec.gov/Archives/edgar/data/1045810/000104581022000036/nvda-20220130.htm',\n",
    "  'NVDA_2022.pdf'),\n",
    " ('https://www.sec.gov/Archives/edgar/data/1045810/000104581023000017/nvda-20230129.htm',\n",
    "  'NVDA_2023.pdf'),\n",
    " ('https://www.sec.gov/Archives/edgar/data/1045810/000104581024000029/nvda-20240128.htm',\n",
    "  'NVDA_2024.pdf')]"
   ]
  },
  {
   "cell_type": "code",
   "execution_count": 5,
   "id": "554fc453-3a67-467f-be65-0f26992d260d",
   "metadata": {},
   "outputs": [],
   "source": [
    "output_dir = \"downloads\"\n",
    "os.makedirs(output_dir, exist_ok=True)"
   ]
  },
  {
   "cell_type": "code",
   "execution_count": 8,
   "id": "e67d3968-a1e1-494f-89f8-6784b36fa2b0",
   "metadata": {},
   "outputs": [
    {
     "name": "stdout",
     "output_type": "stream",
     "text": [
      "Saving https://www.sec.gov/Archives/edgar/data/1652044/000165204423000016/goog-20221231.htm -> GOOG_2022.pdf\n",
      "Saving https://www.sec.gov/Archives/edgar/data/1652044/000165204424000022/goog-20231231.htm -> GOOG_2023.pdf\n",
      "Saving https://www.sec.gov/Archives/edgar/data/1652044/000165204425000014/goog-20241231.htm -> GOOG_2024.pdf\n",
      "Saving https://www.sec.gov/Archives/edgar/data/789019/000156459022026876/msft-10k_20220630.htm -> MSFT_2022.pdf\n",
      "Saving https://www.sec.gov/Archives/edgar/data/789019/000095017023035122/msft-20230630.htm -> MSFT_2023.pdf\n",
      "Saving https://www.sec.gov/Archives/edgar/data/789019/000095017024087843/msft-20240630.htm -> MSFT_2024.pdf\n",
      "Saving https://www.sec.gov/Archives/edgar/data/1045810/000104581022000036/nvda-20220130.htm -> NVDA_2022.pdf\n",
      "Saving https://www.sec.gov/Archives/edgar/data/1045810/000104581023000017/nvda-20230129.htm -> NVDA_2023.pdf\n",
      "Saving https://www.sec.gov/Archives/edgar/data/1045810/000104581024000029/nvda-20240128.htm -> NVDA_2024.pdf\n",
      "All PDFs saved in downloads\n"
     ]
    }
   ],
   "source": [
    "async def main():\n",
    "    async with async_playwright() as p:\n",
    "        browser = await p.chromium.launch(headless=True)\n",
    "        page = await browser.new_page()\n",
    "        for url, filename in urls:\n",
    "            print(f\"Saving {url} -> {filename}\")\n",
    "            await page.goto(url, wait_until=\"networkidle\")\n",
    "            await page.pdf(path=os.path.join(output_dir, filename), format=\"A4\", print_background=True)\n",
    "        await browser.close()\n",
    "    print(\"All PDFs saved in\", output_dir)\n",
    "\n",
    "await main()"
   ]
  },
  {
   "cell_type": "raw",
   "id": "e437caaf-bbc0-4d0a-aeda-f98ab36c4434",
   "metadata": {},
   "source": [
    "Tried downloading html files using playright and then convert them to pdf, but automated downloads of the html file is not allowed on SEC "
   ]
  },
  {
   "cell_type": "code",
   "execution_count": null,
   "id": "324a0b76-6c7d-4e6f-8012-46f251a3f3ab",
   "metadata": {},
   "outputs": [],
   "source": []
  }
 ],
 "metadata": {
  "kernelspec": {
   "display_name": "py310",
   "language": "python",
   "name": "py310"
  },
  "language_info": {
   "codemirror_mode": {
    "name": "ipython",
    "version": 3
   },
   "file_extension": ".py",
   "mimetype": "text/x-python",
   "name": "python",
   "nbconvert_exporter": "python",
   "pygments_lexer": "ipython3",
   "version": "3.10.16"
  }
 },
 "nbformat": 4,
 "nbformat_minor": 5
}
